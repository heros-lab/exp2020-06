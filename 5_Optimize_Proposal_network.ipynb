{
 "cells": [
  {
   "cell_type": "code",
   "execution_count": null,
   "metadata": {},
   "outputs": [],
   "source": [
    "from environment.optimizer import NetworkOptimizer\n",
    "from environment.filter import Filter_with_IQR"
   ]
  },
  {
   "cell_type": "code",
   "execution_count": null,
   "metadata": {},
   "outputs": [],
   "source": [
    "optimizer = NetworkOptimizer(\n",
    "    model_name=\"Prop.1\",\n",
    "    study_ver=\"v1.0\",\n",
    "    load_study=False,\n",
    "    dataset_path=\"./dataset\",\n",
    "    config_path=\"./conf\",\n",
    "    log_path=\"./optimize_log\"\n",
    ")\n",
    "\n",
    "optimizer.initialize(\n",
    "    sample=101,\n",
    "    epochs=200,\n",
    "    filter_object=Filter_with_IQR()\n",
    ")"
   ]
  },
  {
   "cell_type": "code",
   "execution_count": null,
   "metadata": {},
   "outputs": [],
   "source": [
    "optimizer.optimize(num_trial=100)"
   ]
  },
  {
   "cell_type": "code",
   "execution_count": null,
   "metadata": {},
   "outputs": [],
   "source": []
  }
 ],
 "metadata": {
  "kernelspec": {
   "display_name": "Python 3",
   "language": "python",
   "name": "python3"
  },
  "language_info": {
   "codemirror_mode": {
    "name": "ipython",
    "version": 3
   },
   "file_extension": ".py",
   "mimetype": "text/x-python",
   "name": "python",
   "nbconvert_exporter": "python",
   "pygments_lexer": "ipython3",
   "version": "3.7.6"
  }
 },
 "nbformat": 4,
 "nbformat_minor": 4
}
