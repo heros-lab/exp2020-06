{
<<<<<<< HEAD
 "cells": [
  {
   "cell_type": "code",
   "execution_count": 1,
   "metadata": {},
   "outputs": [],
   "source": [
    "from environment.verification import VerificationSystem"
   ]
  },
  {
   "cell_type": "code",
   "execution_count": 2,
   "metadata": {},
   "outputs": [],
   "source": [
    "verification_system = VerificationSystem(\n",
    "    model_name=\"Prop.1\",\n",
    "    dataset_path=\"./dataset\",\n",
    "    config_path=\"./conf\",\n",
    "    result_path=\"./vrf_result\"\n",
    ")\n",
    "\n",
    "verification_system.initialize(\n",
    "    sample=101,\n",
    "    epochs=200,\n",
    "    learn_data=\"ms1a\",\n",
    "    test_data=\"free\"\n",
    ")"
   ]
  },
  {
   "cell_type": "code",
   "execution_count": null,
   "metadata": {},
   "outputs": [
    {
     "name": "stdout",
     "output_type": "stream",
     "text": [
      "Model is Prop.1, sampling: 1/101"
     ]
    }
   ],
   "source": [
    "verification_system.verification()"
   ]
  },
  {
   "cell_type": "code",
   "execution_count": null,
   "metadata": {},
   "outputs": [],
   "source": []
  }
 ],
 "metadata": {
  "kernelspec": {
   "display_name": "Python 3",
   "language": "python",
   "name": "python3"
  },
  "language_info": {
   "codemirror_mode": {
    "name": "ipython",
    "version": 3
   },
   "file_extension": ".py",
   "mimetype": "text/x-python",
   "name": "python",
   "nbconvert_exporter": "python",
   "pygments_lexer": "ipython3",
   "version": "3.7.6"
  }
 },
=======
 "cells": [],
 "metadata": {},
>>>>>>> master
 "nbformat": 4,
 "nbformat_minor": 4
}
