{
 "cells": [
  {
   "cell_type": "code",
   "execution_count": 1,
   "metadata": {},
   "outputs": [],
   "source": [
    "from env2020_06.dataset import DatasetManager\n",
    "from env2020_06.configurator import ModelConfigurator, OptimizeConfigurator"
   ]
  },
  {
   "cell_type": "code",
   "execution_count": 2,
   "metadata": {},
   "outputs": [],
   "source": [
    "dataset = DatasetManager(\"dataset\")\n",
    "data = dataset.load([\"ms1a\",\"ms2a\", \"step\"],[\"free\"], [0,1,3,6], [0])\n"
   ]
  },
  {
   "cell_type": "code",
   "execution_count": 3,
   "metadata": {},
   "outputs": [
    {
     "data": {
      "text/plain": [
       "([0, 3, 4, 5, 6], [3])"
      ]
     },
     "metadata": {},
     "output_type": "display_data"
    },
    {
     "data": {
      "text/plain": [
       "array([-1, -1])"
      ]
     },
     "metadata": {},
     "output_type": "display_data"
    },
    {
     "data": {
      "text/plain": [
       "1024"
      ]
     },
     "metadata": {},
     "output_type": "display_data"
    },
    {
     "data": {
      "text/plain": [
       "{'x-index': [0, 3, 4, 5, 6],\n",
       " 'y-index': [3],\n",
       " 'units': array([-1, -1]),\n",
       " 'batch-size': 1024}"
      ]
     },
     "metadata": {},
     "output_type": "display_data"
    }
   ],
   "source": [
    "model_conf = ModelConfigurator(\"conf/model_conf.csv\")\n",
    "model_name = \"Prop.4\"\n",
    "\n",
    "display(\n",
    "    model_conf.get_index(model_name),\n",
    "    model_conf.get_units(model_name),\n",
    "    model_conf.get_batch_size(model_name),\n",
    "    model_conf.get_config(model_name)\n",
    ")"
   ]
  },
  {
   "cell_type": "code",
   "execution_count": 4,
   "metadata": {},
   "outputs": [
    {
     "data": {
      "text/plain": [
       "'ms3a'"
      ]
     },
     "metadata": {},
     "output_type": "display_data"
    },
    {
     "data": {
      "text/plain": [
       "'ms1a'"
      ]
     },
     "metadata": {},
     "output_type": "display_data"
    },
    {
     "data": {
      "text/plain": [
       "array([200, 200])"
      ]
     },
     "metadata": {},
     "output_type": "display_data"
    },
    {
     "data": {
      "text/plain": [
       "([0, 3, 4, 5, 6], [3])"
      ]
     },
     "metadata": {},
     "output_type": "display_data"
    },
    {
     "data": {
      "text/plain": [
       "array([-1, -1])"
      ]
     },
     "metadata": {},
     "output_type": "display_data"
    },
    {
     "data": {
      "text/plain": [
       "1024"
      ]
     },
     "metadata": {},
     "output_type": "display_data"
    },
    {
     "data": {
      "text/plain": [
       "{'x-index': [0, 3, 4, 5, 6],\n",
       " 'y-index': [3],\n",
       " 'units': array([-1, -1]),\n",
       " 'batch-size': 1024}"
      ]
     },
     "metadata": {},
     "output_type": "display_data"
    }
   ],
   "source": [
    "optimize_conf = OptimizeConfigurator(\"conf/optimize_conf.csv\", \"conf/model_conf.csv\")\n",
    "model_name = \"Prop.4\"\n",
    "\n",
    "display(\n",
    "    optimize_conf.get_learn_data(model_name),\n",
    "    optimize_conf.get_test_data(model_name),\n",
    "    optimize_conf.get_unit_range(model_name),\n",
    "    optimize_conf.get_index(model_name),\n",
    "    optimize_conf.get_units(model_name),\n",
    "    optimize_conf.get_batch_size(model_name),\n",
    "    optimize_conf.get_model_config(model_name)\n",
    ")"
   ]
  },
  {
   "cell_type": "code",
   "execution_count": null,
   "metadata": {},
   "outputs": [],
   "source": []
  }
 ],
 "metadata": {
  "kernelspec": {
   "display_name": "Python 3",
   "language": "python",
   "name": "python3"
  },
  "language_info": {
   "codemirror_mode": {
    "name": "ipython",
    "version": 3
   },
   "file_extension": ".py",
   "mimetype": "text/x-python",
   "name": "python",
   "nbconvert_exporter": "python",
   "pygments_lexer": "ipython3",
   "version": "3.7.6"
  }
 },
 "nbformat": 4,
 "nbformat_minor": 4
}
