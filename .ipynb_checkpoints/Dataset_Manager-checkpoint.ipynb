{
 "cells": [
  {
   "cell_type": "code",
   "execution_count": 13,
   "metadata": {},
   "outputs": [],
   "source": [
    "import re\n",
    "import numpy as np\n",
    "import pandas as pd\n",
    "import matplotlib.pyplot as plt"
   ]
  },
  {
   "cell_type": "code",
   "execution_count": 28,
   "metadata": {},
   "outputs": [],
   "source": [
    "class DatasetManager:\n",
    "    def __init__(self, dataset_directory):\n",
    "        self.dir_path = dataset_directory\n",
    "        \n",
    "    def load(self, learn_name, test_name, x_index, y_index):\n",
    "        if type(learn_name) == list:\n",
    "            learn_x = pd.read_csv(f\"{self.dir_path}/{learn_name[0]}_x.csv\", index_col=0).values[:, x_index]\n",
    "            learn_y = pd.read_csv(f\"{self.dir_path}/{learn_name[0]}_y.csv\", index_col=0).values[:, y_index]\n",
    "            for label in learn_name[1:]:\n",
    "                learn_x = np.vstack((learn_x, pd.read_csv(f\"{self.dir_path}/{label}_x.csv\", index_col=0).values[:, x_index]))\n",
    "                learn_y = np.vstack((learn_y, pd.read_csv(f\"{self.dir_path}/{label}_y.csv\", index_col=0).values[:, y_index]))\n",
    "            \n",
    "            test_x = pd.read_csv(f\"{self.dir_path}/{test_name[0]}_x.csv\", index_col=0).values[:, x_index]\n",
    "            test_y = pd.read_csv(f\"{self.dir_path}/{test_name[0]}_y.csv\", index_col=0).values[:, y_index]\n",
    "            for label in test_name[1:]:\n",
    "                test_x = np.vstack((test_x, pd.read_csv(f\"{self.dir_path}/{label}_x.csv\", index_col=0).values[:, x_index]))\n",
    "                test_y = np.vstack((test_y, pd.read_csv(f\"{self.dir_path}/{label}_y.csv\", index_col=0).values[:, y_index]))\n",
    "        else:\n",
    "            learn_x = pd.read_csv(f\"{self.dir_path}/{learn_name}_x.csv\", index_col=0).values[:, x_index]\n",
    "            learn_y = pd.read_csv(f\"{self.dir_path}/{learn_name}_y.csv\", index_col=0).values[:, y_index]\n",
    "            test_x = pd.read_csv(f\"{self.dir_path}/{test_name}_x.csv\", index_col=0).values[:, x_index]\n",
    "            test_y = pd.read_csv(f\"{self.dir_path}/{test_name}_y.csv\", index_col=0).values[:, y_index]\n",
    "            \n",
    "        dataset = {\n",
    "            \"learn-x\": learn_x,\n",
    "            \"learn-y\": learn_y,\n",
    "            \"test-x\": test_x,\n",
    "            \"test-y\": test_y\n",
    "        }\n",
    "        \n",
    "        return dataset\n",
    "    "
   ]
  },
  {
   "cell_type": "code",
   "execution_count": 33,
   "metadata": {},
   "outputs": [],
   "source": [
    "dataset = DatasetManager(\"dataset\")\n",
    "data = dataset.load([\"ms1a\",\"ms2a\", \"step\"],[\"free\"], [0,1,3,6], [0])\n"
   ]
  },
  {
   "cell_type": "code",
   "execution_count": 60,
   "metadata": {},
   "outputs": [],
   "source": [
    "model_conf = pd.read_csv(\"conf/model_conf.csv\", index_col=0)"
   ]
  },
  {
   "cell_type": "code",
   "execution_count": 59,
   "metadata": {},
   "outputs": [
    {
     "data": {
      "text/plain": [
       "(512, 3, 15)"
      ]
     },
     "execution_count": 59,
     "metadata": {},
     "output_type": "execute_result"
    }
   ],
   "source": [
    "batch, u1, u2 = map(lambda x: int(x), model_conf[\"Prop.1\"].loc[[\"Batch-size\", \"Unit1\", \"Unit2\"]].values)\n",
    "batch, u1, u2"
   ]
  },
  {
   "cell_type": "code",
   "execution_count": 40,
   "metadata": {},
   "outputs": [],
   "source": [
    "optimize_conf = pd.read_csv(\"conf/optimize_conf.csv\", index_col=0)"
   ]
  },
  {
   "cell_type": "code",
   "execution_count": 61,
   "metadata": {},
   "outputs": [
    {
     "data": {
      "text/html": [
       "<div>\n",
       "<style scoped>\n",
       "    .dataframe tbody tr th:only-of-type {\n",
       "        vertical-align: middle;\n",
       "    }\n",
       "\n",
       "    .dataframe tbody tr th {\n",
       "        vertical-align: top;\n",
       "    }\n",
       "\n",
       "    .dataframe thead th {\n",
       "        text-align: right;\n",
       "    }\n",
       "</style>\n",
       "<table border=\"1\" class=\"dataframe\">\n",
       "  <thead>\n",
       "    <tr style=\"text-align: right;\">\n",
       "      <th></th>\n",
       "      <th>Model-1</th>\n",
       "      <th>Model-2</th>\n",
       "      <th>Model-3</th>\n",
       "      <th>Model-4</th>\n",
       "    </tr>\n",
       "  </thead>\n",
       "  <tbody>\n",
       "    <tr>\n",
       "      <th>Learning-data</th>\n",
       "      <td>ms1a</td>\n",
       "      <td>ms3a</td>\n",
       "      <td>ms2a</td>\n",
       "      <td>ms3a</td>\n",
       "    </tr>\n",
       "    <tr>\n",
       "      <th>Test-data</th>\n",
       "      <td>ms2a</td>\n",
       "      <td>ms1a</td>\n",
       "      <td>ms1a</td>\n",
       "      <td>ms1a</td>\n",
       "    </tr>\n",
       "    <tr>\n",
       "      <th>Range-unit1</th>\n",
       "      <td>20</td>\n",
       "      <td>200</td>\n",
       "      <td>200</td>\n",
       "      <td>200</td>\n",
       "    </tr>\n",
       "    <tr>\n",
       "      <th>Range-unit2</th>\n",
       "      <td>20</td>\n",
       "      <td>200</td>\n",
       "      <td>200</td>\n",
       "      <td>200</td>\n",
       "    </tr>\n",
       "  </tbody>\n",
       "</table>\n",
       "</div>"
      ],
      "text/plain": [
       "              Model-1 Model-2 Model-3 Model-4\n",
       "Learning-data    ms1a    ms3a    ms2a    ms3a\n",
       "Test-data        ms2a    ms1a    ms1a    ms1a\n",
       "Range-unit1        20     200     200     200\n",
       "Range-unit2        20     200     200     200"
      ]
     },
     "metadata": {},
     "output_type": "display_data"
    },
    {
     "data": {
      "text/html": [
       "<div>\n",
       "<style scoped>\n",
       "    .dataframe tbody tr th:only-of-type {\n",
       "        vertical-align: middle;\n",
       "    }\n",
       "\n",
       "    .dataframe tbody tr th {\n",
       "        vertical-align: top;\n",
       "    }\n",
       "\n",
       "    .dataframe thead th {\n",
       "        text-align: right;\n",
       "    }\n",
       "</style>\n",
       "<table border=\"1\" class=\"dataframe\">\n",
       "  <thead>\n",
       "    <tr style=\"text-align: right;\">\n",
       "      <th></th>\n",
       "      <th>Conv.1</th>\n",
       "      <th>Conv.2</th>\n",
       "      <th>Conv.3</th>\n",
       "      <th>Conv.4</th>\n",
       "      <th>Prop.1</th>\n",
       "      <th>Prop.2</th>\n",
       "      <th>Prop.3</th>\n",
       "      <th>Prop.4</th>\n",
       "    </tr>\n",
       "  </thead>\n",
       "  <tbody>\n",
       "    <tr>\n",
       "      <th>x-index</th>\n",
       "      <td>[0,1,2,3,4,5,6]</td>\n",
       "      <td>[0,1,2,3,4,5,6]</td>\n",
       "      <td>[0,1,2,3,4,5,6]</td>\n",
       "      <td>[0,1,2,3,4,5,6]</td>\n",
       "      <td>[0,3,4,6]</td>\n",
       "      <td>[1,2,5,6]</td>\n",
       "      <td>[1,2,5,6]</td>\n",
       "      <td>[0,3,4,5,6]</td>\n",
       "    </tr>\n",
       "    <tr>\n",
       "      <th>y-index</th>\n",
       "      <td>[0]</td>\n",
       "      <td>[1]</td>\n",
       "      <td>[2]</td>\n",
       "      <td>[3]</td>\n",
       "      <td>[0]</td>\n",
       "      <td>[1]</td>\n",
       "      <td>[2]</td>\n",
       "      <td>[3]</td>\n",
       "    </tr>\n",
       "    <tr>\n",
       "      <th>Batch-size</th>\n",
       "      <td>512</td>\n",
       "      <td>512</td>\n",
       "      <td>256</td>\n",
       "      <td>1024</td>\n",
       "      <td>512</td>\n",
       "      <td>512</td>\n",
       "      <td>256</td>\n",
       "      <td>1024</td>\n",
       "    </tr>\n",
       "    <tr>\n",
       "      <th>Unit1</th>\n",
       "      <td>19</td>\n",
       "      <td>177</td>\n",
       "      <td>200</td>\n",
       "      <td>189</td>\n",
       "      <td>3</td>\n",
       "      <td>108</td>\n",
       "      <td>119</td>\n",
       "      <td>-1</td>\n",
       "    </tr>\n",
       "    <tr>\n",
       "      <th>Unit2</th>\n",
       "      <td>17</td>\n",
       "      <td>27</td>\n",
       "      <td>15</td>\n",
       "      <td>32</td>\n",
       "      <td>15</td>\n",
       "      <td>19</td>\n",
       "      <td>15</td>\n",
       "      <td>-1</td>\n",
       "    </tr>\n",
       "  </tbody>\n",
       "</table>\n",
       "</div>"
      ],
      "text/plain": [
       "                     Conv.1           Conv.2           Conv.3  \\\n",
       "x-index     [0,1,2,3,4,5,6]  [0,1,2,3,4,5,6]  [0,1,2,3,4,5,6]   \n",
       "y-index                 [0]              [1]              [2]   \n",
       "Batch-size              512              512              256   \n",
       "Unit1                    19              177              200   \n",
       "Unit2                    17               27               15   \n",
       "\n",
       "                     Conv.4     Prop.1     Prop.2     Prop.3       Prop.4  \n",
       "x-index     [0,1,2,3,4,5,6]  [0,3,4,6]  [1,2,5,6]  [1,2,5,6]  [0,3,4,5,6]  \n",
       "y-index                 [3]        [0]        [1]        [2]          [3]  \n",
       "Batch-size             1024        512        512        256         1024  \n",
       "Unit1                   189          3        108        119           -1  \n",
       "Unit2                    32         15         19         15           -1  "
      ]
     },
     "metadata": {},
     "output_type": "display_data"
    }
   ],
   "source": [
    "display(optimize_conf)\n",
    "display(model_conf)"
   ]
  },
  {
   "cell_type": "code",
   "execution_count": 94,
   "metadata": {},
   "outputs": [],
   "source": [
    "class ModelConfigurator:\n",
    "    def __init__(self, config_path):\n",
    "        self.conf = pd.read_csv(config_path, index_col=0)\n",
    "        \n",
    "    def decode_index(self, index_text):\n",
    "        index_text = list(index_text[1:-1].split(\",\"))\n",
    "        return [int(x) for x in index_text]\n",
    "    \n",
    "    def get_index(self, model_name):\n",
    "        x_index, y_index = self.conf[model_name].loc[[\"x-index\", \"y-index\"]]\n",
    "        x_index = self.decode_index(x_index)\n",
    "        y_index = self.decode_index(y_index)\n",
    "        return x_index, y_index\n",
    "    \n",
    "    def get_units(self, model_name):\n",
    "        return self.conf[model_name].loc[[\"Unit1\", \"Unit2\"]].astype(\"int\").values\n",
    "    \n",
    "    def get_batch_size(self, model_name):\n",
    "        return self.conf[model_name].loc[[\"Batch-size\"]].astype(\"int\").values[0]\n",
    "    \n",
    "    def get_all_config(self, model_name):\n",
    "        x_index, y_index = self.get_index(model_name)\n",
    "        num_units = self.get_units(model_name)\n",
    "        batch_size = self.get_batch_size(model_name)\n",
    "        conf = {\n",
    "            \"x-index\": x_index,\n",
    "            \"y-index\": y_index,\n",
    "            \"units\": num_units,\n",
    "            \"batch-size\": batch_size\n",
    "        }\n",
    "        return conf\n"
   ]
  },
  {
   "cell_type": "code",
   "execution_count": 95,
   "metadata": {},
   "outputs": [],
   "source": [
    "model_conf = ModelConfigurator(\"conf/model_conf.csv\")"
   ]
  },
  {
   "cell_type": "code",
   "execution_count": 96,
   "metadata": {},
   "outputs": [
    {
     "data": {
      "text/plain": [
       "([0, 3, 4, 5, 6], [3])"
      ]
     },
     "execution_count": 96,
     "metadata": {},
     "output_type": "execute_result"
    }
   ],
   "source": [
    "model_conf.get_index(\"Prop.4\")"
   ]
  },
  {
   "cell_type": "code",
   "execution_count": 97,
   "metadata": {},
   "outputs": [
    {
     "data": {
      "text/plain": [
       "array([-1, -1])"
      ]
     },
     "execution_count": 97,
     "metadata": {},
     "output_type": "execute_result"
    }
   ],
   "source": [
    "model_conf.get_units(\"Prop.4\")"
   ]
  },
  {
   "cell_type": "code",
   "execution_count": 98,
   "metadata": {},
   "outputs": [
    {
     "data": {
      "text/plain": [
       "1024"
      ]
     },
     "execution_count": 98,
     "metadata": {},
     "output_type": "execute_result"
    }
   ],
   "source": [
    "model_conf.get_batch_size(\"Prop.4\")"
   ]
  },
  {
   "cell_type": "markdown",
   "metadata": {},
   "source": []
  }
 ],
 "metadata": {
  "kernelspec": {
   "display_name": "Python 3",
   "language": "python",
   "name": "python3"
  },
  "language_info": {
   "codemirror_mode": {
    "name": "ipython",
    "version": 3
   },
   "file_extension": ".py",
   "mimetype": "text/x-python",
   "name": "python",
   "nbconvert_exporter": "python",
   "pygments_lexer": "ipython3",
   "version": "3.7.7"
  }
 },
 "nbformat": 4,
 "nbformat_minor": 4
}
