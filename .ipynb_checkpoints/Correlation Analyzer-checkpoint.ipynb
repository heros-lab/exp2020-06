{
 "cells": [
  {
   "cell_type": "code",
   "execution_count": 1,
   "metadata": {},
   "outputs": [],
   "source": [
    "import numpy as np\n",
    "import pandas as pd\n",
    "import matplotlib.pyplot as plt\n",
    "\n",
    "from copy import copy"
   ]
  },
  {
   "cell_type": "code",
   "execution_count": 188,
   "metadata": {},
   "outputs": [],
   "source": [
    "class CorrelationAnalyzer:\n",
    "    def __init__(self, data_list, data_dir, label_check: bool = True):\n",
    "        self.data_list = data_list\n",
    "        self.data_dir = data_dir\n",
    "        self.df_x = []\n",
    "        self.df_y = []\n",
    "        self.df_list = []\n",
    "        self.df_corr = []\n",
    "        for data_name in self.data_list:\n",
    "            self.df_x.append(pd.read_csv(f\"{self.data_dir}/{data_name}_x.csv\", index_col=0))\n",
    "            self.df_y.append(pd.read_csv(f\"{self.data_dir}/{data_name}_y.csv\", index_col=0))\n",
    "        x_label = list(self.df_x[0].columns)\n",
    "        y_label = list(self.df_y[0].columns)\n",
    "        self.label_organizer = LabelOrganizer(x_label, y_label, label_check)\n",
    "\n",
    "    def evaluation(self):\n",
    "        x_label, y_label = self.label_organizer.get_labels()\n",
    "        self.df_list = []\n",
    "        self.df_corr = []\n",
    "        for i in range(len(self.df_x)):\n",
    "            self.df_list.append(self.df_x[i][x_label].join(self.df_y[i][y_label]))\n",
    "            self.df_corr.append(self.df_list[-1].corr()[x_label][len(x_label):])\n",
    "    \n",
    "    def get_prop_index(self, corrs):\n",
    "        strong_corrs = sum(self.df_corr[i].apply(lambda x: np.abs(x) >= corrs).values for i in range(len(self.df_corr)))\n",
    "        self.prop_index = {label: np.where(strong_corrs[y_label.index(label)]>0)[0] for label in y_label}\n",
    "        return self.prop_index\n",
    "    \n",
    "    def get_dataframe(self):\n",
    "        return self.df_list\n",
    "    \n",
    "    def get_corr(self):\n",
    "        return self.df_corr\n",
    "    \n",
    "    def get_index(self):\n",
    "        return prop_index\n",
    "    \n",
    "    def get_labels(self):\n",
    "        return self.label_organizer.get_labels()\n",
    "\n",
    "    def check_labels(self):\n",
    "        self.label_organizer.check_labels()\n",
    "\n",
    "    def remove_xlabel(self, drop_label, label_check=False):\n",
    "        self.label_organizer.remove_label(\"x-label\", drop_label)\n",
    "        if label_check:\n",
    "            self.label_organizer.check_labels()\n",
    "\n",
    "    def remove_ylabel(self, drop_label, label_check=False):\n",
    "        self.label_organizer.remove_label(\"y-label\", drop_label)\n",
    "        if label_check:\n",
    "            self.label_organizer.check_labels()\n",
    "\n",
    "    def reset_xlabel(self, label_check=False):\n",
    "        self.label_organizer.reset_label(\"x-label\")\n",
    "        if label_check:\n",
    "            self.label_organizer.check_labels()\n",
    "\n",
    "    def reset_ylabel(self, label_check=False):\n",
    "        self.label_organizer.reset_label(\"y-label\")\n",
    "        if label_check:\n",
    "            self.label_organizer.check_labels()\n",
    "\n",
    "    def reset_labels(self, label_check=False):\n",
    "        self.label_organizer.reset_label(\"both\")\n",
    "        if label_check:\n",
    "            self.label_organizer.check_labels()\n",
    "\n",
    "\n",
    "class LabelOrganizer:\n",
    "    def __init__(self, x_label, y_label, label_check: bool = True):\n",
    "        self.x_label_ref = x_label\n",
    "        self.y_label_ref = y_label\n",
    "        self.reset_label(\"both\")\n",
    "        if label_check:\n",
    "            self.check_labels()\n",
    "\n",
    "    def check_labels(self):\n",
    "        print(f\"x-label -> {self.x_label}\")\n",
    "        print(f\"y-label -> {self.y_label}\")\n",
    "\n",
    "    def select_label(self, label_name):\n",
    "        if label_name == \"x-label\":\n",
    "            label_list = self.x_label\n",
    "        elif label_name == \"y-label\":\n",
    "            label_list = self.y_label\n",
    "        else:\n",
    "            print(f\"Error: LabelOrganizer.select_label: {label_name} is not defined.\")\n",
    "        return label_list\n",
    "\n",
    "    def remove_label(self, label_name, drop_label):\n",
    "        label_list = self.select_label(label_name)\n",
    "        if type(drop_label) is str:\n",
    "            label_list.remove(drop_label)\n",
    "        else:\n",
    "            for label in drop_label:\n",
    "                label_list.remove(label)\n",
    "        return label_list\n",
    "\n",
    "    def reset_label(self, label_name):\n",
    "        if label_name == \"x-label\":\n",
    "            self.x_label = copy(self.x_label_ref)\n",
    "        elif label_name == \"y-label\":\n",
    "            self.y_label = copy(self.y_label_ref)\n",
    "        elif label_name == \"both\":\n",
    "            self.x_label = copy(self.x_label_ref)\n",
    "            self.y_label = copy(self.y_label_ref)\n",
    "        else:\n",
    "            print(f\"Error: CorrelationAnalyzer.LabelOrganizer.reset_label: {label_name} is not defined.\")\n",
    "\n",
    "    def get_labels(self):\n",
    "        return copy(self.x_label), copy(self.y_label)\n"
   ]
  },
  {
   "cell_type": "code",
   "execution_count": 189,
   "metadata": {},
   "outputs": [
    {
     "name": "stdout",
     "output_type": "stream",
     "text": [
      "x-label -> ['x1[k]', 'x2[k]', 'x3[k]', 'x4[k]', 'd/dt x3[k]', 'd/dt x4[k]', 'voltage']\n",
      "y-label -> ['x1[k+1]', 'x2[k+1]', 'x3[k+1]', 'x4[k+1]']\n"
     ]
    }
   ],
   "source": [
    "data_list = [\"ms1a\", \"ms2a\", \"ms3a\", \"step\", \"free\"]\n",
    "data_dir  = \"dataset\"\n",
    "\n",
    "corr_analyzer = CorrelationAnalyzer(data_list, data_dir)\n",
    "corr_analyzer.remove_xlabel(\"voltage\")"
   ]
  },
  {
   "cell_type": "code",
   "execution_count": 190,
   "metadata": {},
   "outputs": [
    {
     "data": {
      "text/plain": [
       "[            x1[k]     x2[k]     x3[k]     x4[k]  d/dt x3[k]  d/dt x4[k]\n",
       " x1[k+1]  1.000000  0.024236  0.000223 -0.240881   -0.373786    0.090173\n",
       " x2[k+1]  0.024236  1.000000  0.051789 -0.022017    0.034817   -0.047491\n",
       " x3[k+1]  0.000223  0.051789  1.000000 -0.411152   -0.009824   -0.039535\n",
       " x4[k+1] -0.240881 -0.022017 -0.411152  1.000000    0.109026   -0.021525,\n",
       "             x1[k]     x2[k]     x3[k]     x4[k]  d/dt x3[k]  d/dt x4[k]\n",
       " x1[k+1]  1.000000  0.058068  0.011894 -0.264369   -0.238894    0.048507\n",
       " x2[k+1]  0.058068  1.000000  0.111316 -0.019350    0.029400   -0.045108\n",
       " x3[k+1]  0.011894  0.111316  1.000000 -0.372990   -0.017471   -0.015367\n",
       " x4[k+1] -0.264369 -0.019350 -0.372990  1.000000    0.094723   -0.033832,\n",
       "             x1[k]     x2[k]     x3[k]     x4[k]  d/dt x3[k]  d/dt x4[k]\n",
       " x1[k+1]  1.000000  0.026188  0.005320 -0.244949   -0.398384    0.093927\n",
       " x2[k+1]  0.026188  1.000000  0.046550 -0.023057    0.033593   -0.047801\n",
       " x3[k+1]  0.005320  0.046550  1.000000 -0.403295   -0.002804   -0.052746\n",
       " x4[k+1] -0.244949 -0.023057 -0.403295  1.000000    0.102742   -0.006913,\n",
       "                 x1[k]     x2[k]         x3[k]     x4[k]  d/dt x3[k]  \\\n",
       " x1[k+1]  1.000000e+00  0.086464  6.675623e-08  0.197294   -0.850412   \n",
       " x2[k+1]  8.646373e-02  1.000000  8.994888e-04  0.148646   -0.000748   \n",
       " x3[k+1]  6.675623e-08  0.000899  1.000000e+00  0.236034   -0.000007   \n",
       " x4[k+1]  1.972942e-01  0.148646  2.360343e-01  1.000000    0.332819   \n",
       " \n",
       "          d/dt x4[k]  \n",
       " x1[k+1]   -0.131187  \n",
       " x2[k+1]   -0.144707  \n",
       " x3[k+1]   -0.229864  \n",
       " x4[k+1]   -0.997714  ,\n",
       "             x1[k]         x2[k]     x3[k]         x4[k]  d/dt x3[k]  \\\n",
       " x1[k+1]  1.000000 -1.457166e-01 -0.211099  7.665591e-01   -0.830127   \n",
       " x2[k+1] -0.145717  1.000000e+00 -0.895250  1.889705e-09    0.432503   \n",
       " x3[k+1] -0.211099 -8.952496e-01  1.000000 -4.455650e-01    0.000002   \n",
       " x4[k+1]  0.766559  1.889705e-09 -0.445565  1.000000e+00   -0.869011   \n",
       " \n",
       "            d/dt x4[k]  \n",
       " x1[k+1]  3.314092e-01  \n",
       " x2[k+1] -8.741096e-01  \n",
       " x3[k+1]  7.825464e-01  \n",
       " x4[k+1] -3.201886e-07  ]"
      ]
     },
     "execution_count": 190,
     "metadata": {},
     "output_type": "execute_result"
    }
   ],
   "source": [
    "corr_analyzer.evaluation()\n",
    "corr_analyzer.get_corr()"
   ]
  },
  {
   "cell_type": "code",
   "execution_count": 191,
   "metadata": {},
   "outputs": [
    {
     "data": {
      "text/plain": [
       "{'x1[k+1]': array([0, 3, 4], dtype=int64),\n",
       " 'x2[k+1]': array([1, 2, 5], dtype=int64),\n",
       " 'x3[k+1]': array([1, 2, 5], dtype=int64),\n",
       " 'x4[k+1]': array([0, 3, 4, 5], dtype=int64)}"
      ]
     },
     "execution_count": 191,
     "metadata": {},
     "output_type": "execute_result"
    }
   ],
   "source": [
    "corr_analyzer.get_index()"
   ]
  },
  {
   "cell_type": "code",
   "execution_count": null,
   "metadata": {},
   "outputs": [],
   "source": []
  },
  {
   "cell_type": "code",
   "execution_count": null,
   "metadata": {},
   "outputs": [],
   "source": []
  },
  {
   "cell_type": "code",
   "execution_count": null,
   "metadata": {},
   "outputs": [],
   "source": []
  },
  {
   "cell_type": "code",
   "execution_count": null,
   "metadata": {},
   "outputs": [],
   "source": []
  },
  {
   "cell_type": "code",
   "execution_count": 204,
   "metadata": {},
   "outputs": [
    {
     "data": {
      "image/png": "[encoded data removed]",
      "text/plain": [
       "<Figure size 1080x216 with 5 Axes>"
      ]
     },
     "metadata": {
      "needs_background": "light"
     },
     "output_type": "display_data"
    }
   ],
   "source": [
    "num_fig = 5\n",
    "fig, ax = plt.subplots(1, num_fig, figsize=(3*num_fig, 3))\n",
    "\n",
    "for i in range(5):\n",
    "    corr[i].abs().plot.bar(ax=ax[i], legend=False, title=data_list[i])\n",
    "    ax[i].hlines(0.7, -1, 5, \"r\", \":\")"
   ]
  },
  {
   "cell_type": "code",
   "execution_count": null,
   "metadata": {},
   "outputs": [],
   "source": []
  }
 ],
 "metadata": {
  "kernelspec": {
   "display_name": "Python 3",
   "language": "python",
   "name": "python3"
  },
  "language_info": {
   "codemirror_mode": {
    "name": "ipython",
    "version": 3
   },
   "file_extension": ".py",
   "mimetype": "text/x-python",
   "name": "python",
   "nbconvert_exporter": "python",
   "pygments_lexer": "ipython3",
   "version": "3.7.7"
  }
 },
 "nbformat": 4,
 "nbformat_minor": 4
}
