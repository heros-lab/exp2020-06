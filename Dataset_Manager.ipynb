{
 "cells": [
  {
   "cell_type": "code",
   "execution_count": 5,
   "metadata": {},
   "outputs": [],
   "source": [
    "import re\n",
    "import numpy as np\n",
    "import pandas as pd\n",
    "import matplotlib.pyplot as plt"
   ]
  },
  {
   "cell_type": "code",
   "execution_count": 77,
   "metadata": {},
   "outputs": [],
   "source": [
    "class DatasetManagerClass:\n",
    "    def help(self):\n",
    "        print(\"#-------------------------------------------------------------#\")\n",
    "        print(\"# +++ DatasetManagerClass +++                                 #\")\n",
    "        print(\"#-------------------------------------------------------------#\")\n",
    "        print(\"# ** methods **                                               #\")\n",
    "        print(\"# select_index(model_type) : x_index, y_index                 #\")\n",
    "        print(\"# load_dataset(model_type, data_type) : data_x, data_y        #\")\n",
    "        print(\"# learn_data(model_type) : learn_x, learn_y                   #\")\n",
    "        print(\"# test_data(model_type) : test_x, test_y                      #\")\n",
    "        print(\"#                                                             #\")\n",
    "        print(\"#-------------------------------------------------------------#\")\n",
    "        \n",
    "    def __init__(self, dataset_directory, index_config_path):\n",
    "        self.data_dir = dataset_directory\n",
    "        self.data_conf = pd.read_csv(f\"{self.data_dir}/dataset_config.csv\", index_col=0)\n",
    "        self.index_conf = pd.read_csv(index_config_path, index_col=0).replace(-1, np.nan)\n",
    "        \n",
    "    def select_index(self, model_type):\n",
    "        if \"conv.\" in model_type:\n",
    "            model_id = re.compile(\"\\d+\").findall(model_type)[0]\n",
    "            common_type = self.index_conf.columns.str.endswith(model_id)\n",
    "            x_index = None\n",
    "            y_index = self.index_conf.loc[\"y_index\", common_type].values.astype(\"int32\")\n",
    "        else:\n",
    "            x_index = self.index_conf[model_type].loc[[\"x_index\"]].dropna().values.astype(\"int32\")\n",
    "            y_index = self.index_conf[model_type].loc[[\"y_index\"]].dropna().values.astype(\"int32\")\n",
    "        return x_index, y_index\n",
    "    \n",
    "    def load_dataset(self, model_type, data_type):\n",
    "        model_id = re.compile(\"\\d+\").findall(model_type)[0]  # extract model-ID from model-type\n",
    "        data_name = self.data_conf[f\"model{model_id}\"].loc[data_type]\n",
    "        data_x = pd.read_csv(f\"{self.data_dir}/{data_name}_x.csv\", index_col=0).values\n",
    "        data_y = pd.read_csv(f\"{self.data_dir}/{data_name}_y.csv\", index_col=0).values\n",
    "        print(f\"Model-type: {model_type}, Load-data >> {data_name}\")\n",
    "        return data_x, data_y\n",
    "    \n",
    "    def learn_data(self, model_type):\n",
    "        x_index, y_index = self.select_index(model_type)\n",
    "        learn_x, learn_y = self.load_dataset(model_type, \"learn-data\")\n",
    "        if x_index is not None:\n",
    "            learn_x = learn_x[:, x_index]\n",
    "            learn_y = learn_y[:, y_index]\n",
    "        else:\n",
    "            learn_x = learn_x\n",
    "            learn_y = learn_y[:, y_index]\n",
    "        print(f\"Index: x >> {x_index}, y >> {y_index}\")\n",
    "        return learn_x, learn_y\n",
    "    \n",
    "    def test_data(self, model_type):\n",
    "        x_index, y_index = self.select_index(model_type)\n",
    "        test_x, test_y = self.load_dataset(model_type, \"test-data\")\n",
    "        if x_index is not None:\n",
    "            test_x = test_x[:, x_index]\n",
    "            test_y = test_y[:, y_index]\n",
    "        else:\n",
    "            test_x = test_x\n",
    "            test_y = test_y[:, y_index]\n",
    "        print(f\"Index: x >> {x_index}, y >> {y_index}\")\n",
    "        return test_x, test_y\n",
    "    "
   ]
  },
  {
   "cell_type": "code",
   "execution_count": 78,
   "metadata": {},
   "outputs": [],
   "source": [
    "dm = DatasetManagerClass(\"data\", \"index_config.csv\")"
   ]
  },
  {
   "cell_type": "code",
   "execution_count": 79,
   "metadata": {},
   "outputs": [
    {
     "name": "stdout",
     "output_type": "stream",
     "text": [
      "#-------------------------------------------------------------#\n",
      "# +++ DatasetManagerClass +++                                 #\n",
      "#-------------------------------------------------------------#\n",
      "# ** methods **                                               #\n",
      "# select_index(model_type) : x_index, y_index                 #\n",
      "# load_dataset(model_type, data_type) : data_x, data_y        #\n",
      "# learn_data(model_type) : learn_x, learn_y                   #\n",
      "# test_data(model_type) : test_x, test_y                      #\n",
      "#                                                             #\n",
      "#-------------------------------------------------------------#\n"
     ]
    }
   ],
   "source": [
    "dm.help()"
   ]
  },
  {
   "cell_type": "code",
   "execution_count": 80,
   "metadata": {
    "scrolled": true
   },
   "outputs": [
    {
     "name": "stdout",
     "output_type": "stream",
     "text": [
      "Model-type: conv.4, Load-data >> ms3a\n",
      "Index: x >> None, y >> [3]\n"
     ]
    }
   ],
   "source": [
    "learn_x, learn_y = dm.learn_data(\"conv.4\")"
   ]
  },
  {
   "cell_type": "code",
   "execution_count": 81,
   "metadata": {},
   "outputs": [
    {
     "name": "stdout",
     "output_type": "stream",
     "text": [
      "Model-type: conv.4, Load-data >> ms1a\n",
      "Index: x >> None, y >> [3]\n"
     ]
    }
   ],
   "source": [
    "test_x, test_y = dm.test_data(\"conv.4\")"
   ]
  },
  {
   "cell_type": "code",
   "execution_count": null,
   "metadata": {},
   "outputs": [],
   "source": []
  },
  {
   "cell_type": "code",
   "execution_count": null,
   "metadata": {},
   "outputs": [],
   "source": []
  }
 ],
 "metadata": {
  "kernelspec": {
   "display_name": "Python 3",
   "language": "python",
   "name": "python3"
  },
  "language_info": {
   "codemirror_mode": {
    "name": "ipython",
    "version": 3
   },
   "file_extension": ".py",
   "mimetype": "text/x-python",
   "name": "python",
   "nbconvert_exporter": "python",
   "pygments_lexer": "ipython3",
   "version": "3.7.6"
  }
 },
 "nbformat": 4,
 "nbformat_minor": 4
}
