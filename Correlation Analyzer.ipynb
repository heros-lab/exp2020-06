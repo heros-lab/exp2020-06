{
 "cells": [
  {
   "cell_type": "code",
   "execution_count": 1,
   "metadata": {},
   "outputs": [],
   "source": [
    "import numpy as np\n",
    "import pandas as pd\n",
    "import matplotlib.pyplot as plt\n",
    "from copy import copy"
   ]
  },
  {
   "cell_type": "code",
   "execution_count": 82,
   "metadata": {},
   "outputs": [],
   "source": [
    "class LabelOrganizer:\n",
    "    def __init__(self, x_label, y_label, label_check=True):\n",
    "        self.x_label_ref = x_label\n",
    "        self.y_label_ref = y_label\n",
    "        self.reset_label(\"both\")\n",
    "        if label_check == True:\n",
    "            self.check_labels()\n",
    "\n",
    "    def check_labels(self):\n",
    "        print(f\"x-label -> {self.x_label}\")\n",
    "        print(f\"y-label -> {self.y_label}\")\n",
    "        \n",
    "    def select_label(self, label_name):\n",
    "        if label_name == \"x-label\":\n",
    "            label_list = self.x_label\n",
    "        elif label_name == \"y-label\":\n",
    "            label_list = self.y_label\n",
    "        else:\n",
    "            print(f\"Error: LabelOrganizer.select_label: {label_name} is not defined.\")\n",
    "        return label_list\n",
    "    \n",
    "    def remove_label(self, label_name, drop_label):\n",
    "        label_list = self.select_label(label_name)\n",
    "        if type(drop_label) is str:\n",
    "            label_list.remove(drop_label)\n",
    "        else:\n",
    "            for label in drop_label:\n",
    "                label_list.remove(label)     \n",
    "        return label_list\n",
    "\n",
    "    def reset_label(self, label_name):\n",
    "        if label_name == \"x-label\":\n",
    "            self.x_label = copy(self.x_label_ref)\n",
    "        elif label_name == \"y-label\":\n",
    "            self.y_label = copy(self.y_label_ref)\n",
    "        elif label_name == \"both\":\n",
    "            self.x_label = copy(self.x_label_ref)\n",
    "            self.y_label = copy(self.y_label_ref)\n",
    "        else:    \n",
    "            print(f\"Error: CorrelationAnalyzer.LabelOrganizer.reset_label: {label_name} is not defined.\")\n",
    "        \n",
    "    def get_labels(self):\n",
    "        return copy(self.x_label), copy(self.y_label) \n",
    "        \n",
    "\n",
    "class CorrelationAnalyzer:\n",
    "    def __init__(self, data_list, data_dir):\n",
    "        self.data_list = data_list\n",
    "        self.data_dir = data_dir\n",
    "        \n",
    "        self.dataframe = []\n",
    "        self.df_corr = []\n",
    "        \n",
    "        self.dataframe_x = []\n",
    "        self.dataframe_y = []\n",
    "        for data_name in self.data_list:\n",
    "            data_x = pd.read_csv(f\"{self.data_dir}/{data_name}_x.csv\", index_col=0)\n",
    "            data_y = pd.read_csv(f\"{self.data_dir}/{data_name}_y.csv\", index_col=0)\n",
    "            self.dataframe_x.append(data_x)\n",
    "            self.dataframe_y.append(data_y)\n",
    "            \n",
    "        x_label = list(self.dataframe_x[0].columns)\n",
    "        y_label = list(self.dataframe_y[0].columns)\n",
    "        \n",
    "        self.label_organizer = LabelOrganizer(x_label, y_label)\n",
    "        \n",
    "    def create_result(self):\n",
    "        x_label, y_label = self.label_organizer.get_labels()\n",
    "        self.check_labels()\n",
    "        for i in range(len(self.dataframe_x)):\n",
    "            dataframe = self.dataframe_x[i][x_label].join(self.dataframe_y[i][y_label])\n",
    "            df_corr = dataframe.corr()[x_label][len(x_label):]\n",
    "            self.dataframe.append(dataframe)\n",
    "            self.df_corr.append(df_corr)\n",
    "    \n",
    "    #  wrapper method of \"Label Organizer\" \n",
    "    def check_labels(self):\n",
    "        self.label_organizer.check_labels()\n",
    "        \n",
    "    def remove_xlabel(self, drop_label, label_check=False):\n",
    "        self.label_organizer.remove_label(\"x-label\", drop_label)\n",
    "        if label_check:\n",
    "            self.label_organizer.check_labels()\n",
    "    \n",
    "    def remove_ylabel(self, drop_label, label_check=False):\n",
    "        self.label_organizer.remove_label(\"y-label\", drop_label)\n",
    "        if label_check:\n",
    "            self.label_organizer.check_labels()\n",
    "            \n",
    "    def reset_xlabel(self, label_check=False):\n",
    "        self.label_organizer.reset_label(\"x-label\")\n",
    "        if label_check:\n",
    "            self.label_organizer.check_labels()\n",
    "    \n",
    "    def reset_ylabel(self, label_check=False):\n",
    "        self.label_organizer.reset_label(\"y-label\")\n",
    "        if label_check:\n",
    "            self.label_organizer.check_labels()\n",
    "    \n",
    "    def reset_labels(self, label_check=False):\n",
    "        self.label_organizer.reset_label(\"both\")\n",
    "        if label_check:\n",
    "            self.label_organizer.check_labels()\n",
    "    \n",
    "    \n",
    "        "
   ]
  },
  {
   "cell_type": "code",
   "execution_count": 83,
   "metadata": {},
   "outputs": [
    {
     "name": "stdout",
     "output_type": "stream",
     "text": [
      "x-label -> ['x1[k]', 'x2[k]', 'x3[k]', 'x4[k]', 'd/dt x3[k]', 'd/dt x4[k]', 'voltage']\n",
      "y-label -> ['x1[k+1]', 'x2[k+1]', 'x3[k+1]', 'x4[k+1]']\n"
     ]
    }
   ],
   "source": [
    "data_list = [\"ms1a\", \"ms2a\", \"free\"]\n",
    "data_dir  = \"data\"\n",
    "corr_analyzer = CorrelationAnalyzer(data_list, data_dir)"
   ]
  },
  {
   "cell_type": "code",
   "execution_count": 84,
   "metadata": {},
   "outputs": [
    {
     "name": "stdout",
     "output_type": "stream",
     "text": [
      "x-label -> ['x1[k]', 'x2[k]', 'x3[k]', 'x4[k]', 'd/dt x3[k]', 'd/dt x4[k]']\n",
      "y-label -> ['x1[k+1]', 'x2[k+1]', 'x3[k+1]', 'x4[k+1]']\n"
     ]
    }
   ],
   "source": [
    "corr_analyzer.remove_xlabel(\"voltage\", True)"
   ]
  },
  {
   "cell_type": "code",
   "execution_count": 85,
   "metadata": {},
   "outputs": [
    {
     "name": "stdout",
     "output_type": "stream",
     "text": [
      "x-label -> ['x1[k]', 'x2[k]', 'x3[k]', 'x4[k]', 'd/dt x3[k]', 'd/dt x4[k]']\n",
      "y-label -> ['x1[k+1]', 'x2[k+1]', 'x3[k+1]', 'x4[k+1]']\n"
     ]
    }
   ],
   "source": [
    "corr_analyzer.create_result()"
   ]
  },
  {
   "cell_type": "code",
   "execution_count": 97,
   "metadata": {},
   "outputs": [
    {
     "data": {
      "text/plain": [
       "['x0', 'x1', 'x2', 'x3', 'x4', 'x5']"
      ]
     },
     "execution_count": 97,
     "metadata": {},
     "output_type": "execute_result"
    }
   ],
   "source": [
    "label = [f\"x{i}\" for i in range(6)]\n",
    "label"
   ]
  },
  {
   "cell_type": "code",
   "execution_count": 99,
   "metadata": {},
   "outputs": [
    {
     "data": {
      "text/html": [
       "<div>\n",
       "<style scoped>\n",
       "    .dataframe tbody tr th:only-of-type {\n",
       "        vertical-align: middle;\n",
       "    }\n",
       "\n",
       "    .dataframe tbody tr th {\n",
       "        vertical-align: top;\n",
       "    }\n",
       "\n",
       "    .dataframe thead th {\n",
       "        text-align: right;\n",
       "    }\n",
       "</style>\n",
       "<table border=\"1\" class=\"dataframe\">\n",
       "  <thead>\n",
       "    <tr style=\"text-align: right;\">\n",
       "      <th></th>\n",
       "      <th>x1[k]</th>\n",
       "      <th>x2[k]</th>\n",
       "      <th>x3[k]</th>\n",
       "      <th>x4[k]</th>\n",
       "      <th>d/dt x3[k]</th>\n",
       "      <th>d/dt x4[k]</th>\n",
       "    </tr>\n",
       "  </thead>\n",
       "  <tbody>\n",
       "    <tr>\n",
       "      <th>x1[k+1]</th>\n",
       "      <td>1.0</td>\n",
       "      <td>NaN</td>\n",
       "      <td>NaN</td>\n",
       "      <td>NaN</td>\n",
       "      <td>NaN</td>\n",
       "      <td>NaN</td>\n",
       "    </tr>\n",
       "  </tbody>\n",
       "</table>\n",
       "</div>"
      ],
      "text/plain": [
       "         x1[k]  x2[k]  x3[k]  x4[k]  d/dt x3[k]  d/dt x4[k]\n",
       "x1[k+1]    1.0    NaN    NaN    NaN         NaN         NaN"
      ]
     },
     "execution_count": 99,
     "metadata": {},
     "output_type": "execute_result"
    }
   ],
   "source": [
    "corr_analyzer.df_corr[0][0:1][corr_analyzer.df_corr[0][0:1].apply(lambda x: x >= 0.7)]"
   ]
  },
  {
   "cell_type": "code",
   "execution_count": null,
   "metadata": {},
   "outputs": [],
   "source": []
  }
 ],
 "metadata": {
  "kernelspec": {
   "display_name": "Python 3",
   "language": "python",
   "name": "python3"
  },
  "language_info": {
   "codemirror_mode": {
    "name": "ipython",
    "version": 3
   },
   "file_extension": ".py",
   "mimetype": "text/x-python",
   "name": "python",
   "nbconvert_exporter": "python",
   "pygments_lexer": "ipython3",
   "version": "3.7.6"
  }
 },
 "nbformat": 4,
 "nbformat_minor": 4
}
